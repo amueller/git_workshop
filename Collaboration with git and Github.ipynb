{
 "cells": [
  {
   "cell_type": "markdown",
   "metadata": {
    "slideshow": {
     "slide_type": "slide"
    }
   },
   "source": [
    "# Collaborating using git & github"
   ]
  },
  {
   "cell_type": "markdown",
   "metadata": {
    "slideshow": {
     "slide_type": "slide"
    }
   },
   "source": [
    "\n",
    "## Remote repository\n",
    "\n",
    "- central location everyone can see\n",
    "- requires network\n",
    "- github, bitbucket\n",
    "- public vs private\n",
    "\n",
    "![git repo first push](github-repo-after-first-push.jpg)\n"
   ]
  },
  {
   "cell_type": "markdown",
   "metadata": {
    "slideshow": {
     "slide_type": "slide"
    }
   },
   "source": [
    "## Sign into github\n",
    "\n",
    "- go to github.com\n",
    "- sign into your account\n",
    "- Put up a green post-it"
   ]
  },
  {
   "cell_type": "markdown",
   "metadata": {},
   "source": [
    "## Create a new repository\n",
    "\n",
    "- Press the create a new repo button\n",
    "![create repo 1](create_repo1.jpg)\n",
    "\n",
    "- Call your repo planets and \"create repository\"\n",
    "- Follow the directions to push an existing repository\n",
    "- put up your green post-it\n",
    "\n",
    "![create repo 2](create_repo2.jpg)\n"
   ]
  }
 ],
 "metadata": {
  "celltoolbar": "Slideshow",
  "kernelspec": {
   "display_name": "Bash",
   "language": "bash",
   "name": "bash"
  },
  "language_info": {
   "codemirror_mode": "shell",
   "file_extension": ".sh",
   "mimetype": "text/x-sh",
   "name": "bash"
  }
 },
 "nbformat": 4,
 "nbformat_minor": 0
}
