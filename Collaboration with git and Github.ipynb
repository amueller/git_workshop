{
 "cells": [
  {
   "cell_type": "markdown",
   "metadata": {
    "slideshow": {
     "slide_type": "slide"
    }
   },
   "source": [
    "# Collaborating using git & github"
   ]
  },
  {
   "cell_type": "markdown",
   "metadata": {
    "slideshow": {
     "slide_type": "slide"
    }
   },
   "source": [
    "\n",
    "## Remote repository\n",
    "\n",
    "- central location everyone can see\n",
    "- requires network\n",
    "- github, bitbucket\n",
    "- public vs private\n",
    "\n",
    "![git repo first push](github-repo-after-first-push.jpg)\n"
   ]
  },
  {
   "cell_type": "markdown",
   "metadata": {
    "slideshow": {
     "slide_type": "slide"
    }
   },
   "source": [
    "## Sign into github\n",
    "\n",
    "- go to github.com\n",
    "- sign into your account\n",
    "- Put up a green post-it"
   ]
  },
  {
   "cell_type": "markdown",
   "metadata": {
    "slideshow": {
     "slide_type": "slide"
    }
   },
   "source": [
    "## Create a new repository\n",
    "\n",
    "- Press the create a new repo button\n",
    "![create repo 1](create_repo1.jpg)\n",
    "\n",
    "- Call your repo planets and \"create repository\"\n",
    "- Follow the directions to push an existing repository\n",
    "- put up your green post-it\n",
    "\n",
    "![create repo 2](create_repo2.jpg)\n"
   ]
  },
  {
   "cell_type": "markdown",
   "metadata": {
    "slideshow": {
     "slide_type": "slide"
    }
   },
   "source": [
    "\n",
    "## Exercise: Explore your remote repository\n",
    "\n",
    "- at the top of the page click yourname/planets\n",
    "- Explore...\n",
    "\n",
    "![return to repo](return_to_repo.jpg)"
   ]
  },
  {
   "cell_type": "markdown",
   "metadata": {
    "slideshow": {
     "slide_type": "slide"
    }
   },
   "source": [
    "## what is my remote repository?"
   ]
  },
  {
   "cell_type": "code",
   "execution_count": null,
   "metadata": {
    "collapsed": true
   },
   "outputs": [],
   "source": [
    "git remote -v"
   ]
  },
  {
   "cell_type": "markdown",
   "metadata": {},
   "source": [
    "default nickname: origin"
   ]
  },
  {
   "cell_type": "markdown",
   "metadata": {
    "slideshow": {
     "slide_type": "slide"
    }
   },
   "source": [
    "# Starting your collaboration\n",
    "\n",
    "- Find a partner\n",
    "- Decide who is Dracula and who is Wolfman\n",
    "- You will be using Dracula's repository\n",
    "- put up your green post-it\n",
    "- put up your red post-it if you need a partner"
   ]
  },
  {
   "cell_type": "markdown",
   "metadata": {
    "slideshow": {
     "slide_type": "slide"
    }
   },
   "source": [
    "## Wolfman: Cloning a repository\n",
    "\n",
    "- cd out of planets, create a new directory called planets_collab, and cd into it"
   ]
  },
  {
   "cell_type": "code",
   "execution_count": 1,
   "metadata": {
    "collapsed": false
   },
   "outputs": [
    {
     "name": "stdout",
     "output_type": "stream",
     "text": []
    }
   ],
   "source": [
    "cd ../\n",
    "mkdir planets_collab\n",
    "cd planets_collab"
   ]
  },
  {
   "cell_type": "markdown",
   "metadata": {},
   "source": [
    "- Clone Dracula's repository\n",
    "    - make sure its set to HTTPS\n",
    "    \n",
    "![clone](clone.jpg)\n",
    "\n",
    "- cd into the planets directory you just downloaded\n",
    "- put up your green post-it"
   ]
  },
  {
   "cell_type": "markdown",
   "metadata": {
    "collapsed": true,
    "slideshow": {
     "slide_type": "slide"
    }
   },
   "source": [
    "## Dracula: adding a collaborator\n",
    "\n",
    "- Anyone can clone only collaborators can write\n",
    "- Dracula only:\n",
    "    - Click settings on the RHS\n",
    "    ![settings](settings.jpg)\n",
    "    - Click collaborators on the LHS\n",
    "    ![collaborators](collaborators.jpg)\n",
    "    - Add Wolfman's github username under collaborators\n",
    "\n"
   ]
  },
  {
   "cell_type": "markdown",
   "metadata": {
    "slideshow": {
     "slide_type": "slide"
    }
   },
   "source": [
    "## Collaborating\n",
    "\n",
    "\n",
    "### Dracula\n",
    "\n",
    "- modify mars.txt\n",
    "- save your changes\n",
    "- add and commit your changes\n",
    "- push your changes to the remote repository\n",
    "    \n",
    "> git push origin master\n",
    "\n",
    "### Wolfman\n",
    "\n",
    " - pull down your partner's changes\n",
    "\n",
    "> git pull origin master\n",
    "\n",
    "- add a line to the end of mars.txt\n",
    "- save your changes\n",
    "- add and commit your changes\n",
    "- push your changes to the remote repository\n",
    "    \n",
    "> git push origin master"
   ]
  },
  {
   "cell_type": "markdown",
   "metadata": {
    "slideshow": {
     "slide_type": "slide"
    }
   },
   "source": [
    "## Merge without conflict\n",
    "\n",
    "- Dracula: modify the first line of mars.txt, save, add, and commit\n",
    "- Wolfman: modify the last line of mars.txt, save, add, and commit\n",
    "- Dracula: pull down changes from Wolfman\n",
    "    - you will be asked to save a merge commit message in nano\n",
    "- Dracula: push your changes to the remote repository\n",
    "- Wolfman: pull down changes from Dracula and save the commit message\n",
    "- Wolfman: push your changes to the remote repository\n",
    "\n"
   ]
  },
  {
   "cell_type": "markdown",
   "metadata": {
    "slideshow": {
     "slide_type": "slide"
    }
   },
   "source": [
    "\n",
    "## Merge with conflicts\n",
    "\n",
    "- Dracula: Edit the last line of the mars.txt, save, add, and commit\n",
    "- Dracula: try to pull down changes from the remote repository\n",
    "\n",
    "![conflict message](conflict_message.jpg)"
   ]
  },
  {
   "cell_type": "markdown",
   "metadata": {
    "slideshow": {
     "slide_type": "slide"
    }
   },
   "source": [
    "## Resolving Conflicts\n",
    "\n",
    "- Dracula: open mars.txt\n",
    "![conflict](conflict_file.jpg)\n",
    "\n",
    "\n",
    "- Dracula: edit mars.txt to look like correct file\n",
    "    - remove extra text\n",
    "    - choose which lines you want to keep\n",
    "- Dracula: save, add, commit, push"
   ]
  },
  {
   "cell_type": "markdown",
   "metadata": {
    "slideshow": {
     "slide_type": "slide"
    }
   },
   "source": [
    "\n",
    "## Exercise: Repeat for Wolfman\n",
    "\n",
    "- Wolfman: pull down Dracula's changes\n",
    "- Dracula: change the first line of jupiter.txt\n",
    "- Dracula: save, add, commit, push\n",
    "- Wolfman: change the first line of jupiter.txt, add, commit\n",
    "- Wolfman: pull down Dracula's changes\n",
    "    - you will get a conflict\n",
    "    - open jupiter.txt and edit to look like final version\n",
    "    - save changes to jupiter.txt\n",
    "    - add, commit, push\n",
    "\n"
   ]
  }
 ],
 "metadata": {
  "celltoolbar": "Slideshow",
  "kernelspec": {
   "display_name": "Bash",
   "language": "bash",
   "name": "bash"
  },
  "language_info": {
   "codemirror_mode": "shell",
   "file_extension": ".sh",
   "mimetype": "text/x-sh",
   "name": "bash"
  }
 },
 "nbformat": 4,
 "nbformat_minor": 0
}
