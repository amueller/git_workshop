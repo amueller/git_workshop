{
 "cells": [
  {
   "cell_type": "markdown",
   "metadata": {
    "slideshow": {
     "slide_type": "slide"
    }
   },
   "source": [
    "# Version Control with Git"
   ]
  },
  {
   "cell_type": "markdown",
   "metadata": {
    "slideshow": {
     "slide_type": "slide"
    }
   },
   "source": [
    "\n",
    "## What is version control?\n",
    "\n",
    "- A tool to track the history of a project\n",
    "    - who changed what when\n",
    "- Individual or collaborative"
   ]
  },
  {
   "cell_type": "markdown",
   "metadata": {
    "slideshow": {
     "slide_type": "slide"
    }
   },
   "source": [
    "![do you need git](do-you-need-git.png)"
   ]
  },
  {
   "cell_type": "markdown",
   "metadata": {
    "slideshow": {
     "slide_type": "slide"
    }
   },
   "source": [
    "\n",
    "## Why do I care about the history of a project?\n",
    "\n",
    "<table style=\"border:0px none;\">\n",
    "<tr>\n",
    "<td>\n",
    "<ul>\n",
    "<li>Individual\n",
    "    <ul>\n",
    "    <li>fix (or undo) mistakes</li>\n",
    "    <li>what was done and why</li>\n",
    "    <li>definitive (final?) version</li>\n",
    "    <li>hard to accidentally delete</li>\n",
    "    </ul>\n",
    "</li>\n",
    "<li>Collaborative\n",
    "    <ul>\n",
    "    <li>who to ask if you have questions</li>\n",
    "    <li>work simultaneously</li>\n",
    "    <li>hard to overwrite</li>\n",
    "    </ul>\n",
    "    </li>\n",
    "</ul>\n",
    "</td>\n",
    "<td>\n",
    "<img src=\"final_doc.jpg\">\n",
    "</td>\n",
    "</tr>\n",
    "</table>\n"
   ]
  },
  {
   "cell_type": "markdown",
   "metadata": {
    "slideshow": {
     "slide_type": "slide"
    }
   },
   "source": [
    "## Configuration"
   ]
  },
  {
   "cell_type": "code",
   "execution_count": null,
   "metadata": {
    "collapsed": false,
    "slideshow": {
     "slide_type": "-"
    }
   },
   "outputs": [],
   "source": [
    "git config --global user.name \"Andreas Mueller\"\n",
    "git config --global user.email \"amueller@nyu.edu\"\n",
    "git config --global color.ui \"auto\"\n",
    "git config --global core.editor \"nano\""
   ]
  },
  {
   "cell_type": "markdown",
   "metadata": {
    "slideshow": {
     "slide_type": "-"
    }
   },
   "source": [
    "- git command format: git verb\n",
    "- verb: config\n",
    "    - who you are\n",
    "- --global \n",
    "    - apply everywhere\n",
    "- color: color code output\n",
    "- editor: set default editor \n",
    "\n",
    "You can change these setting at any time.\n",
    "Show your configuration:"
   ]
  },
  {
   "cell_type": "code",
   "execution_count": null,
   "metadata": {
    "collapsed": false
   },
   "outputs": [],
   "source": [
    "git config --list"
   ]
  },
  {
   "cell_type": "markdown",
   "metadata": {
    "slideshow": {
     "slide_type": "slide"
    }
   },
   "source": [
    "\n",
    "## The Situation\n",
    "\n",
    "- Dracula, Wolfman, and the Mummy \n",
    "- research moving to another planet\n",
    "- want to share their research\n",
    "\n",
    "![dracula and wolfman](dracula_and_wolfman.jpg)\n"
   ]
  },
  {
   "cell_type": "markdown",
   "metadata": {
    "slideshow": {
     "slide_type": "slide"
    }
   },
   "source": [
    "## Creating a repository\n",
    "\n",
    "- make a directory called planets\n",
    "- cd into planets directory"
   ]
  },
  {
   "cell_type": "code",
   "execution_count": null,
   "metadata": {
    "collapsed": false,
    "slideshow": {
     "slide_type": "skip"
    }
   },
   "outputs": [],
   "source": [
    "cd /tmp\n",
    "rm -rf planets\n",
    "mkdir planets\n",
    "cd planets"
   ]
  },
  {
   "cell_type": "code",
   "execution_count": null,
   "metadata": {
    "collapsed": false
   },
   "outputs": [],
   "source": [
    "git init"
   ]
  },
  {
   "cell_type": "markdown",
   "metadata": {},
   "source": [
    "- make planets directory a repository "
   ]
  },
  {
   "cell_type": "code",
   "execution_count": null,
   "metadata": {
    "collapsed": false
   },
   "outputs": [],
   "source": [
    "ls -a\n"
   ]
  },
  {
   "cell_type": "markdown",
   "metadata": {},
   "source": [
    "- .git directory is where git stores the history of the project\n"
   ]
  },
  {
   "cell_type": "code",
   "execution_count": null,
   "metadata": {
    "collapsed": false
   },
   "outputs": [],
   "source": [
    "git status"
   ]
  },
  {
   "cell_type": "markdown",
   "metadata": {
    "collapsed": true,
    "slideshow": {
     "slide_type": "slide"
    }
   },
   "source": [
    "## Tracking Changes to Files\n",
    "\n",
    "- Create a file to track\n",
    "    - Open your text editor\n",
    "    - Type: cold and dry but everything is my favorite color\n",
    "    - save file as mars.txt\n",
    "- Check in with git\n",
    "\n",
    "- start tracking file\n",
    "\n",
    "- Record current state\n",
    "\n",
    "    - ``-m`` : commit message inline\n",
    "\n"
   ]
  },
  {
   "cell_type": "markdown",
   "metadata": {
    "slideshow": {
     "slide_type": "slide"
    }
   },
   "source": [
    "## Exercise 1:\n",
    "\n",
    "Create a file called jupiter.txt with a sentence about jupiter in your planets directory\n",
    "start tracking and record the current state of jupiter.txt\n",
    "Put your green post-it up when you are done"
   ]
  },
  {
   "cell_type": "code",
   "execution_count": null,
   "metadata": {
    "collapsed": false,
    "slideshow": {
     "slide_type": "skip"
    }
   },
   "outputs": [],
   "source": [
    "touch filename"
   ]
  },
  {
   "cell_type": "code",
   "execution_count": null,
   "metadata": {
    "collapsed": false
   },
   "outputs": [],
   "source": [
    "git status\n",
    "git add filename\n",
    "git commit -m \"commit message\""
   ]
  },
  {
   "cell_type": "markdown",
   "metadata": {
    "slideshow": {
     "slide_type": "slide"
    }
   },
   "source": [
    "## Viewing your history"
   ]
  },
  {
   "cell_type": "code",
   "execution_count": null,
   "metadata": {
    "collapsed": false
   },
   "outputs": [],
   "source": [
    "git log"
   ]
  },
  {
   "cell_type": "markdown",
   "metadata": {
    "slideshow": {
     "slide_type": "slide"
    }
   },
   "source": [
    "## Changing a File\n",
    "\n",
    "\n",
    "Open your mars.txt file and add:\n",
    ">The two moons may be a problem for Wolfman\n",
    "\n",
    "Check the status of your files"
   ]
  },
  {
   "cell_type": "code",
   "execution_count": null,
   "metadata": {
    "collapsed": false,
    "slideshow": {
     "slide_type": "skip"
    }
   },
   "outputs": [],
   "source": [
    "echo \"The two moons may be a problem for Wolfman\" >> mars.txt"
   ]
  },
  {
   "cell_type": "code",
   "execution_count": null,
   "metadata": {
    "collapsed": false
   },
   "outputs": [],
   "source": [
    "git status"
   ]
  },
  {
   "cell_type": "markdown",
   "metadata": {},
   "source": [
    "View the changes you made"
   ]
  },
  {
   "cell_type": "code",
   "execution_count": null,
   "metadata": {
    "collapsed": false
   },
   "outputs": [],
   "source": [
    "git diff mars.txt"
   ]
  },
  {
   "cell_type": "markdown",
   "metadata": {},
   "source": [
    "Tell git which files you want to record changes in"
   ]
  },
  {
   "cell_type": "code",
   "execution_count": null,
   "metadata": {
    "collapsed": false
   },
   "outputs": [],
   "source": [
    "git add mars.txt"
   ]
  },
  {
   "cell_type": "markdown",
   "metadata": {},
   "source": [
    "Save changes to revision history"
   ]
  },
  {
   "cell_type": "code",
   "execution_count": null,
   "metadata": {
    "collapsed": false
   },
   "outputs": [],
   "source": [
    "git commit -m \"concerns about Mars' moons\""
   ]
  },
  {
   "cell_type": "markdown",
   "metadata": {
    "collapsed": true,
    "slideshow": {
     "slide_type": "slide"
    }
   },
   "source": [
    "##  What are we doing?\n",
    "\n",
    "![git staging area](git-staging-area.png)"
   ]
  },
  {
   "cell_type": "markdown",
   "metadata": {
    "slideshow": {
     "slide_type": "slide"
    }
   },
   "source": [
    "## Exercise\n",
    "\n",
    "- Open file jupiter.txt in your text editor\n",
    "- Add a line\n",
    "- View the change you made using git\n",
    "- Record your changes in the project's history\n",
    "- View your project's history\n",
    "- Put up your green post-it\n",
    "- Bonus:\n",
    "    - make another change\n",
    "    - try any one of these variations:\n",
    "        - commit without adding\n",
    "        - view changes between adding and committing\n",
    "        - commit without the -m\n",
    "\n"
   ]
  },
  {
   "cell_type": "markdown",
   "metadata": {
    "slideshow": {
     "slide_type": "slide"
    }
   },
   "source": [
    "## A note on viewing changes\n",
    "\n",
    "     \n",
    "Changes between working directory and what was last staged"
   ]
  },
  {
   "cell_type": "code",
   "execution_count": null,
   "metadata": {
    "collapsed": false
   },
   "outputs": [],
   "source": [
    "git diff"
   ]
  },
  {
   "cell_type": "markdown",
   "metadata": {},
   "source": [
    "Changes between staging area and last commit"
   ]
  },
  {
   "cell_type": "code",
   "execution_count": null,
   "metadata": {
    "collapsed": false
   },
   "outputs": [],
   "source": [
    "git diff --staged"
   ]
  },
  {
   "cell_type": "markdown",
   "metadata": {
    "slideshow": {
     "slide_type": "slide"
    }
   },
   "source": [
    "## Referencing different versions\n",
    "\n",
    "- Shorthand for different versions of a repository (refers to commits)\n",
    "    - Current Version (most recent commit): ``HEAD``\n",
    "    - Version before current: ``HEAD~1``\n",
    "    - Version before that: ``HEAD~2``\n",
    "- Each of these also has a commit hash\n",
    "    - use ``git log`` to get appropriate hash\n"
   ]
  },
  {
   "cell_type": "markdown",
   "metadata": {},
   "source": [
    "## Exploring History\n",
    "\n",
    "Changes made in the last commit         "
   ]
  },
  {
   "cell_type": "code",
   "execution_count": null,
   "metadata": {
    "collapsed": true
   },
   "outputs": [],
   "source": [
    "git diff HEAD~1"
   ]
  },
  {
   "cell_type": "markdown",
   "metadata": {},
   "source": [
    "Changes made in the last 2 commits"
   ]
  },
  {
   "cell_type": "code",
   "execution_count": null,
   "metadata": {
    "collapsed": true
   },
   "outputs": [],
   "source": [
    "git diff HEAD~2"
   ]
  },
  {
   "cell_type": "markdown",
   "metadata": {},
   "source": [
    "Changes made since commit hash..."
   ]
  },
  {
   "cell_type": "code",
   "execution_count": null,
   "metadata": {
    "collapsed": true
   },
   "outputs": [],
   "source": [
    "git diff 0b0d55e"
   ]
  },
  {
   "cell_type": "markdown",
   "metadata": {},
   "source": [
    "- first 7 characters\n",
    "- use git log to find commit you want"
   ]
  },
  {
   "cell_type": "markdown",
   "metadata": {
    "slideshow": {
     "slide_type": "slide"
    }
   },
   "source": [
    "## Recovering Older Versions\n",
    "- Overwrite mars.txt:"
   ]
  },
  {
   "cell_type": "code",
   "execution_count": null,
   "metadata": {
    "collapsed": false
   },
   "outputs": [],
   "source": [
    "echo 'The mummy will like the dry air.' >  mars.txt\n",
    "cat mars.txt"
   ]
  },
  {
   "cell_type": "markdown",
   "metadata": {},
   "source": [
    "Recover last recorded version:"
   ]
  },
  {
   "cell_type": "code",
   "execution_count": null,
   "metadata": {
    "collapsed": false
   },
   "outputs": [],
   "source": [
    "git checkout HEAD mars.txt"
   ]
  },
  {
   "cell_type": "markdown",
   "metadata": {},
   "source": [
    "* ``checkout HEAD`` means revert to version in ``HEAD``\n",
    "* can use commit hash to revert to even older version\n",
    "* ``mars.txt``: tells git which file to revert\n",
    "* in ``git status`` they list this option with ``--`` instead of ``HEAD``. This is a shortcut."
   ]
  },
  {
   "cell_type": "markdown",
   "metadata": {
    "slideshow": {
     "slide_type": "slide"
    }
   },
   "source": [
    "## What is going on here\n",
    "![git checkout](git-checkout.png)"
   ]
  },
  {
   "cell_type": "markdown",
   "metadata": {
    "slideshow": {
     "slide_type": "slide"
    }
   },
   "source": [
    "## Exercise\n",
    "\n",
    "- Overwrite and recover jupiter.txt\n",
    "- Put up your green post-it\n",
    "- Bonus:\n",
    "    - revert to the first saved version of jupiter.txt\n",
    "    - switch back to the most recent version of jupiter.txt\n",
    "\n"
   ]
  }
 ],
 "metadata": {
  "celltoolbar": "Slideshow",
  "kernelspec": {
   "display_name": "Bash",
   "language": "bash",
   "name": "bash"
  },
  "language_info": {
   "codemirror_mode": "shell",
   "file_extension": ".sh",
   "mimetype": "text/x-sh",
   "name": "bash"
  }
 },
 "nbformat": 4,
 "nbformat_minor": 0
}
